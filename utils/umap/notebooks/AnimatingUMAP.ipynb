{
 "cells": [
  {
   "cell_type": "markdown",
   "metadata": {},
   "source": [
    "# Making Animations of UMAP Hyper-parameters\n",
    "\n",
    "Sometimes one of the best ways to see the effects of hyperparameters is simply to visualise what happens as they change. We can do that in practice with UMAP by simply creating an animation that transitions between embeddings generated with variations of hyperparameters. To do this we'll make use of matplotlib and its animation capabilities. Jake Vanderplas has [a great tutorial](https://jakevdp.github.io/blog/2012/08/18/matplotlib-animation-tutorial/) if you want to know more about creating animations with matplotlib.\n",
    "\n",
    "To start let's load everything we'll need"
   ]
  },
  {
   "cell_type": "code",
   "execution_count": 1,
   "metadata": {},
   "outputs": [],
   "source": [
    "import numpy as np\n",
    "import matplotlib.pyplot as plt\n",
    "from matplotlib import animation\n",
    "%matplotlib inline\n",
    "import seaborn as sns\n",
    "import itertools\n",
    "sns.set(style='white', rc={'figure.figsize':(14, 12)})"
   ]
  },
  {
   "cell_type": "code",
   "execution_count": 2,
   "metadata": {},
   "outputs": [],
   "source": [
    "from sklearn.datasets import load_digits"
   ]
  },
  {
   "cell_type": "code",
   "execution_count": 3,
   "metadata": {},
   "outputs": [],
   "source": [
    "from umap import UMAP"
   ]
  },
  {
   "cell_type": "markdown",
   "metadata": {},
   "source": [
    "To try this out we'll needs a reasonably small dataset (so embedding runs don't take *too* long since we'll be doing a lot of them). For ease of reproducibility for everyone else I'll use the digits dataset from sklearn. If you want to try other datasets just drop them in here -- COIL20 might be interesting, or you might have your own data."
   ]
  },
  {
   "cell_type": "code",
   "execution_count": 4,
   "metadata": {},
   "outputs": [
    {
     "data": {
      "text/plain": [
       "array([[ 0.,  0.,  5., ...,  0.,  0.,  0.],\n",
       "       [ 0.,  0.,  0., ..., 10.,  0.,  0.],\n",
       "       [ 0.,  0.,  0., ..., 16.,  9.,  0.],\n",
       "       ...,\n",
       "       [ 0.,  0.,  1., ...,  6.,  0.,  0.],\n",
       "       [ 0.,  0.,  2., ..., 12.,  0.,  0.],\n",
       "       [ 0.,  0., 10., ..., 12.,  1.,  0.]])"
      ]
     },
     "execution_count": 4,
     "metadata": {},
     "output_type": "execute_result"
    }
   ],
   "source": [
    "digits = load_digits()\n",
    "data = digits.data\n",
    "data"
   ]
  },
  {
   "cell_type": "markdown",
   "metadata": {},
   "source": [
    "We need to move the points in between the embeddings given by different parameter values. There are potentially fancy ways to do this (Something using rotatio and reflection to get an initial alignment might be interesting), but we'll use straighforward linear interpolation between the two embeddings. To do this we'll need a simple function that can turn out intermediate embeddings for the in-between frames of the animation."
   ]
  },
  {
   "cell_type": "code",
   "execution_count": 5,
   "metadata": {},
   "outputs": [],
   "source": [
    "def tween(e1, e2, n_frames=20):\n",
    "    for i in range(5):\n",
    "        yield e1\n",
    "    for i in range(n_frames):\n",
    "        alpha = i / float(n_frames - 1)\n",
    "        yield (1 - alpha) * e1 + alpha * e2\n",
    "    for i in range(5):\n",
    "        yield(e2)\n",
    "    return"
   ]
  },
  {
   "cell_type": "markdown",
   "metadata": {},
   "source": [
    "Now that we can fill in intermediate frame we just need to generate all the embeddings. We'll create a function that can take an argument and set of parameter values and then generate all the embeddings including the in-between frames."
   ]
  },
  {
   "cell_type": "code",
   "execution_count": 6,
   "metadata": {},
   "outputs": [],
   "source": [
    "def generate_frame_data(data, arg_name='n_neighbors', arg_list=[3,4,5,7,9,11,15,20,25,30,40,60,100]):\n",
    "    result = []\n",
    "    es = []\n",
    "    for arg in arg_list:\n",
    "        kwargs = {arg_name:arg}\n",
    "        if len(es) > 0:\n",
    "            es.append(UMAP(init=es[-1], negative_sample_rate=3, **kwargs).fit_transform(data))\n",
    "        else:\n",
    "            es.append(UMAP(negative_sample_rate=3, **kwargs).fit_transform(data))\n",
    "        \n",
    "    for e1, e2 in zip(es[:-1], es[1:]):\n",
    "        result.extend(list(tween(e1, e2)))\n",
    "        \n",
    "    return result"
   ]
  },
  {
   "cell_type": "markdown",
   "metadata": {},
   "source": [
    "Next we just need to create a function to actually generate the animation given a list of embeddings (one for each frame). This is really just a matter of workign through the details of how matplotlib generates animations -- I would refer you again to Jake's tutorial if you are interested in the detailed mechanics of this."
   ]
  },
  {
   "cell_type": "code",
   "execution_count": 7,
   "metadata": {},
   "outputs": [],
   "source": [
    "def create_animation(frame_data, arg_name='n_neighbors', arg_list=[3,4,5,7,9,11,15,20,25,30,40,60,100]):\n",
    "    fig = plt.figure()\n",
    "    all_data = np.vstack(frame_data)\n",
    "    frame_bounds = (all_data[:, 0].min() * 1.1, \n",
    "                    all_data[:, 0].max() * 1.1,\n",
    "                    all_data[:, 1].min() * 1.1, \n",
    "                    all_data[:, 1].max() * 1.1)\n",
    "    ax = plt.axes(xlim=(frame_bounds[0], frame_bounds[1]), \n",
    "                  ylim=(frame_bounds[2], frame_bounds[3]))\n",
    "    points = plt.scatter(frame_data[0][:, 0], frame_data[0][:, 1], \n",
    "                        s=5, c=digits.target, cmap='Spectral', animated=True)\n",
    "    title = plt.title('', fontsize=24)\n",
    "    ax.set_xticks([])\n",
    "    ax.set_yticks([])\n",
    "    cbar = plt.colorbar(values=np.arange(10), boundaries=np.arange(11)-0.5, ticks=np.arange(10), drawedges=True)\n",
    "    cbar.ax.yaxis.set_ticklabels(np.arange(10), fontsize=18)\n",
    "\n",
    "    def init():\n",
    "        points.set_offsets(frame_data[0])\n",
    "        title.set_text('UMAP with {}={}'.format(arg_name, arg_list[0]))\n",
    "        return points,\n",
    "\n",
    "    def animate(i):\n",
    "        points.set_offsets(frame_data[i])\n",
    "        if (i + 15) % 30 == 0:\n",
    "            title.set_text('UMAP with {}={}'.format(arg_name, arg_list[(i + 15) // 30]))\n",
    "        return points,\n",
    "\n",
    "    anim = animation.FuncAnimation(fig, animate, init_func=init, frames=len(frame_data), interval=20, blit=True)\n",
    "    anim.save('umap_anim-{}.gif'.format(arg_name), writer='imagemagick', fps=30)"
   ]
  },
  {
   "cell_type": "markdown",
   "metadata": {},
   "source": [
    "Finally a little bit of glue to make it all go together."
   ]
  },
  {
   "cell_type": "code",
   "execution_count": 8,
   "metadata": {},
   "outputs": [],
   "source": [
    "def animate_param(data, arg_name='n_neighbors', arg_list=[3,4,5,7,9,11,15,20,25,30,40,60,100]):\n",
    "    frame_data = generate_frame_data(data, arg_name, arg_list)\n",
    "    create_animation(frame_data, arg_name, arg_list)"
   ]
  },
  {
   "cell_type": "markdown",
   "metadata": {},
   "source": [
    "Now we can create an animation -- it will get saved as a GIF file in the current directory. You'll also get to see the final frame of the animation displayed in the notebook."
   ]
  },
  {
   "cell_type": "code",
   "execution_count": 9,
   "metadata": {},
   "outputs": [
    {
     "data": {
      "image/png": "[encoded data removed]",
      "text/plain": [
       "<matplotlib.figure.Figure at 0x10d668be0>"
      ]
     },
     "metadata": {},
     "output_type": "display_data"
    }
   ],
   "source": [
    "animate_param(data, 'n_neighbors', [3,4,5,7,10,15,25,50,100,200])\n",
    "#animate_param(data, 'min_dist', [0.0, 0.01, 0.1, 0.2, 0.4, 0.6, 0.9])\n",
    "#animate_param(data, 'gamma', [0.1, 0.2, 0.5, 1.0, 2.0, 5.0, 10.0])\n",
    "#animate_param(data, 'local_connectivity', [0.1, 0.2, 0.5, 1.0, 2.0, 5.0, 10.0])\n",
    "#animate_param(data, 'bandwidth', [1.0, 2.0, 4.0, 8.0, 16.0, 32.0, 64.0])\n",
    "#animate_param(data, 'set_op_mix_ratio', np.linspace(0.0, 1.0, 10))"
   ]
  },
  {
   "cell_type": "code",
   "execution_count": null,
   "metadata": {},
   "outputs": [],
   "source": []
  }
 ],
 "metadata": {
  "anaconda-cloud": {},
  "kernelspec": {
   "display_name": "Python [conda env:umap_dev]",
   "language": "python",
   "name": "conda-env-umap_dev-py"
  },
  "language_info": {
   "codemirror_mode": {
    "name": "ipython",
    "version": 3
   },
   "file_extension": ".py",
   "mimetype": "text/x-python",
   "name": "python",
   "nbconvert_exporter": "python",
   "pygments_lexer": "ipython3",
   "version": "3.5.4"
  }
 },
 "nbformat": 4,
 "nbformat_minor": 1
}
